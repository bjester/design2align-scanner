{
 "cells": [
  {
   "cell_type": "code",
   "execution_count": null,
   "metadata": {},
   "outputs": [],
   "source": [
    "# Import common utils and the scanner library.\n",
    "import json\n",
    "import sys\n",
    "sys.path.append('..')\n",
    "\n",
    "import process_scans"
   ]
  },
  {
   "cell_type": "code",
   "execution_count": null,
   "metadata": {},
   "outputs": [],
   "source": [
    "# Check, and optionally configure, input and output directory.\n",
    "import config\n",
    "print(config.INPUT_DIRECTORY)\n",
    "print(config.WRITE_DIRECTORY)"
   ]
  },
  {
   "cell_type": "code",
   "execution_count": null,
   "metadata": {},
   "outputs": [],
   "source": [
    "# Get a list of all the files in the input directory.\n",
    "files = process_scans.read_input_dir()\n",
    "print(files)"
   ]
  },
  {
   "cell_type": "code",
   "execution_count": null,
   "metadata": {},
   "outputs": [],
   "source": [
    "# Process one of the input files so we can start exploring, this may take a minute or two.\n",
    "pages = process_scans.process_scan(files[0])"
   ]
  },
  {
   "cell_type": "code",
   "execution_count": null,
   "metadata": {},
   "outputs": [],
   "source": [
    "# Read the basic data structure for scanned pages.\n",
    "page = 2\n",
    "assert page < len(pages)\n",
    "print(json.dumps(pages[page], indent=2))"
   ]
  },
  {
   "cell_type": "code",
   "execution_count": null,
   "metadata": {},
   "outputs": [],
   "source": [
    "# Display page image with detected text highlighted.\n",
    "%pylab inline\n",
    "import mpld3\n",
    "mpld3.enable_notebook()\n",
    "import matplotlib.pyplot as plt\n",
    "import matplotlib.image as mpimg\n",
    "plt.figure(figsize=(11,8.5))\n",
    "img=mpimg.imread(pages[page]['boxes'])\n",
    "imgplot = plt.imshow(img, aspect='auto')"
   ]
  },
  {
   "cell_type": "code",
   "execution_count": null,
   "metadata": {
    "scrolled": true
   },
   "outputs": [],
   "source": [
    "# Display the full text recognized by the scanner.\n",
    "print(\"page:{}\".format(page))\n",
    "text_layout_data = json.loads(open(pages[page]['file'], encoding='utf-8').read())\n",
    "print(text_layout_data['text'])"
   ]
  },
  {
   "cell_type": "code",
   "execution_count": null,
   "metadata": {},
   "outputs": [],
   "source": [
    "# Examine what other data it gives us to work with.\n",
    "print(text_layout_data['pages'][0].keys())\n",
    "print(\"Example block props: {}\".format(text_layout_data['pages'][0]['blocks'][0].keys()))"
   ]
  },
  {
   "cell_type": "code",
   "execution_count": null,
   "metadata": {},
   "outputs": [],
   "source": [
    "# magic here to read text and convert into a topic tree of curriculum standards"
   ]
  }
 ],
 "metadata": {
  "kernelspec": {
   "display_name": "Python 3",
   "language": "python",
   "name": "python3"
  },
  "language_info": {
   "codemirror_mode": {
    "name": "ipython",
    "version": 3
   },
   "file_extension": ".py",
   "mimetype": "text/x-python",
   "name": "python",
   "nbconvert_exporter": "python",
   "pygments_lexer": "ipython3",
   "version": "3.6.5"
  }
 },
 "nbformat": 4,
 "nbformat_minor": 2
}
